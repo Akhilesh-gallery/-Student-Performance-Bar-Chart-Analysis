{
 "cells": [
  {
   "cell_type": "code",
   "execution_count": 29,
   "id": "76535394-e939-4679-926b-63292f7714b6",
   "metadata": {},
   "outputs": [],
   "source": [
    "import numpy as np\n",
    "import pandas as pd\n",
    "import matplotlib.pyplot as plt\n",
    "import seaborn as sns"
   ]
  },
  {
   "cell_type": "code",
   "execution_count": 30,
   "id": "d9d465cc-804f-4eef-9ced-31371ad4d117",
   "metadata": {},
   "outputs": [],
   "source": [
    "#Reading data of StudentsPerformance_100 which is present in my current directory in my condition\n",
    "df = pd.read_csv('StudentsPerformance_100.csv')"
   ]
  },
  {
   "cell_type": "code",
   "execution_count": 31,
   "id": "15963b7e-2962-4b23-b558-6f8bc8a8f335",
   "metadata": {},
   "outputs": [
    {
     "data": {
      "text/html": [
       "<div>\n",
       "<style scoped>\n",
       "    .dataframe tbody tr th:only-of-type {\n",
       "        vertical-align: middle;\n",
       "    }\n",
       "\n",
       "    .dataframe tbody tr th {\n",
       "        vertical-align: top;\n",
       "    }\n",
       "\n",
       "    .dataframe thead th {\n",
       "        text-align: right;\n",
       "    }\n",
       "</style>\n",
       "<table border=\"1\" class=\"dataframe\">\n",
       "  <thead>\n",
       "    <tr style=\"text-align: right;\">\n",
       "      <th></th>\n",
       "      <th>gender</th>\n",
       "      <th>race/ethnicity</th>\n",
       "      <th>parental level of education</th>\n",
       "      <th>lunch</th>\n",
       "      <th>test preparation course</th>\n",
       "      <th>math score</th>\n",
       "      <th>reading score</th>\n",
       "      <th>writing score</th>\n",
       "    </tr>\n",
       "  </thead>\n",
       "  <tbody>\n",
       "    <tr>\n",
       "      <th>0</th>\n",
       "      <td>female</td>\n",
       "      <td>group E</td>\n",
       "      <td>high school</td>\n",
       "      <td>free/reduced</td>\n",
       "      <td>none</td>\n",
       "      <td>83</td>\n",
       "      <td>46</td>\n",
       "      <td>79</td>\n",
       "    </tr>\n",
       "    <tr>\n",
       "      <th>1</th>\n",
       "      <td>male</td>\n",
       "      <td>group D</td>\n",
       "      <td>master's degree</td>\n",
       "      <td>standard</td>\n",
       "      <td>completed</td>\n",
       "      <td>37</td>\n",
       "      <td>66</td>\n",
       "      <td>86</td>\n",
       "    </tr>\n",
       "    <tr>\n",
       "      <th>2</th>\n",
       "      <td>male</td>\n",
       "      <td>group D</td>\n",
       "      <td>some high school</td>\n",
       "      <td>free/reduced</td>\n",
       "      <td>completed</td>\n",
       "      <td>18</td>\n",
       "      <td>24</td>\n",
       "      <td>17</td>\n",
       "    </tr>\n",
       "  </tbody>\n",
       "</table>\n",
       "</div>"
      ],
      "text/plain": [
       "   gender race/ethnicity parental level of education         lunch  \\\n",
       "0  female        group E                 high school  free/reduced   \n",
       "1    male        group D             master's degree      standard   \n",
       "2    male        group D            some high school  free/reduced   \n",
       "\n",
       "  test preparation course  math score  reading score  writing score  \n",
       "0                    none          83             46             79  \n",
       "1               completed          37             66             86  \n",
       "2               completed          18             24             17  "
      ]
     },
     "execution_count": 31,
     "metadata": {},
     "output_type": "execute_result"
    }
   ],
   "source": [
    "df.head(3)"
   ]
  },
  {
   "cell_type": "code",
   "execution_count": 32,
   "id": "8aefa513-e450-401a-b3fa-1f14816e84a4",
   "metadata": {},
   "outputs": [
    {
     "data": {
      "text/plain": [
       "gender                         0\n",
       "race/ethnicity                 0\n",
       "parental level of education    0\n",
       "lunch                          0\n",
       "test preparation course        0\n",
       "math score                     0\n",
       "reading score                  0\n",
       "writing score                  0\n",
       "dtype: int64"
      ]
     },
     "execution_count": 32,
     "metadata": {},
     "output_type": "execute_result"
    }
   ],
   "source": [
    "df.isnull().sum()"
   ]
  },
  {
   "cell_type": "code",
   "execution_count": 33,
   "id": "88aa8252-278c-4e63-819c-aca4c9a655f5",
   "metadata": {},
   "outputs": [
    {
     "name": "stdout",
     "output_type": "stream",
     "text": [
      "<class 'pandas.core.frame.DataFrame'>\n",
      "RangeIndex: 100 entries, 0 to 99\n",
      "Data columns (total 8 columns):\n",
      " #   Column                       Non-Null Count  Dtype \n",
      "---  ------                       --------------  ----- \n",
      " 0   gender                       100 non-null    object\n",
      " 1   race/ethnicity               100 non-null    object\n",
      " 2   parental level of education  100 non-null    object\n",
      " 3   lunch                        100 non-null    object\n",
      " 4   test preparation course      100 non-null    object\n",
      " 5   math score                   100 non-null    int64 \n",
      " 6   reading score                100 non-null    int64 \n",
      " 7   writing score                100 non-null    int64 \n",
      "dtypes: int64(3), object(5)\n",
      "memory usage: 6.4+ KB\n"
     ]
    }
   ],
   "source": [
    "df.info()"
   ]
  },
  {
   "cell_type": "code",
   "execution_count": 35,
   "id": "0c9f52c2-ff67-49d3-88e0-de178ee53367",
   "metadata": {},
   "outputs": [],
   "source": [
    "score_columns = df.select_dtypes(include = \"int64\").columns\n",
    "\n",
    "#method of filling null values of numerical column by simple method \n",
    "for cols in score_columns:\n",
    "    if df[cols].isnull().any():\n",
    "        mean_val = np.nanmean(df[col])\n",
    "        df[col].fillna(mean_val,inplace = True)\n",
    "\n",
    "#method of filling null values of numerical column by sklearn method\n",
    "from sklearn.impute import SimpleImputer\n",
    "si = SimpleImputer(strategy = 'mean')\n",
    "df[score_columns]=si.fit_transform(df[score_columns])"
   ]
  },
  {
   "cell_type": "code",
   "execution_count": 38,
   "id": "8051ac79-7454-4668-bec1-8f0f0faa36db",
   "metadata": {},
   "outputs": [],
   "source": [
    "#getting the another column average score\n",
    "df[\"average score\"] = df[[\"math score\",\"reading score\",\"writing score\"]].mean(axis=1)"
   ]
  },
  {
   "cell_type": "code",
   "execution_count": 39,
   "id": "223565f8-ed7b-4657-a63f-85e65a36671e",
   "metadata": {},
   "outputs": [
    {
     "data": {
      "text/html": [
       "<div>\n",
       "<style scoped>\n",
       "    .dataframe tbody tr th:only-of-type {\n",
       "        vertical-align: middle;\n",
       "    }\n",
       "\n",
       "    .dataframe tbody tr th {\n",
       "        vertical-align: top;\n",
       "    }\n",
       "\n",
       "    .dataframe thead th {\n",
       "        text-align: right;\n",
       "    }\n",
       "</style>\n",
       "<table border=\"1\" class=\"dataframe\">\n",
       "  <thead>\n",
       "    <tr style=\"text-align: right;\">\n",
       "      <th></th>\n",
       "      <th>gender</th>\n",
       "      <th>race/ethnicity</th>\n",
       "      <th>parental level of education</th>\n",
       "      <th>lunch</th>\n",
       "      <th>test preparation course</th>\n",
       "      <th>math score</th>\n",
       "      <th>reading score</th>\n",
       "      <th>writing score</th>\n",
       "      <th>average score</th>\n",
       "    </tr>\n",
       "  </thead>\n",
       "  <tbody>\n",
       "    <tr>\n",
       "      <th>0</th>\n",
       "      <td>female</td>\n",
       "      <td>group E</td>\n",
       "      <td>high school</td>\n",
       "      <td>free/reduced</td>\n",
       "      <td>none</td>\n",
       "      <td>83.0</td>\n",
       "      <td>46.0</td>\n",
       "      <td>79.0</td>\n",
       "      <td>69.333333</td>\n",
       "    </tr>\n",
       "    <tr>\n",
       "      <th>1</th>\n",
       "      <td>male</td>\n",
       "      <td>group D</td>\n",
       "      <td>master's degree</td>\n",
       "      <td>standard</td>\n",
       "      <td>completed</td>\n",
       "      <td>37.0</td>\n",
       "      <td>66.0</td>\n",
       "      <td>86.0</td>\n",
       "      <td>63.000000</td>\n",
       "    </tr>\n",
       "    <tr>\n",
       "      <th>2</th>\n",
       "      <td>male</td>\n",
       "      <td>group D</td>\n",
       "      <td>some high school</td>\n",
       "      <td>free/reduced</td>\n",
       "      <td>completed</td>\n",
       "      <td>18.0</td>\n",
       "      <td>24.0</td>\n",
       "      <td>17.0</td>\n",
       "      <td>19.666667</td>\n",
       "    </tr>\n",
       "  </tbody>\n",
       "</table>\n",
       "</div>"
      ],
      "text/plain": [
       "   gender race/ethnicity parental level of education         lunch  \\\n",
       "0  female        group E                 high school  free/reduced   \n",
       "1    male        group D             master's degree      standard   \n",
       "2    male        group D            some high school  free/reduced   \n",
       "\n",
       "  test preparation course  math score  reading score  writing score  \\\n",
       "0                    none        83.0           46.0           79.0   \n",
       "1               completed        37.0           66.0           86.0   \n",
       "2               completed        18.0           24.0           17.0   \n",
       "\n",
       "   average score  \n",
       "0      69.333333  \n",
       "1      63.000000  \n",
       "2      19.666667  "
      ]
     },
     "execution_count": 39,
     "metadata": {},
     "output_type": "execute_result"
    }
   ],
   "source": [
    "df.head(3)"
   ]
  },
  {
   "cell_type": "code",
   "execution_count": 40,
   "id": "9f8ce90c-08c1-412d-8aec-ce956cd3d2bc",
   "metadata": {},
   "outputs": [],
   "source": [
    "#getting all students having average score >= 60\n",
    "df_filtered= df[df['average score'] >= 60]"
   ]
  },
  {
   "cell_type": "code",
   "execution_count": 41,
   "id": "52efb5e1-ff3d-48b1-80ed-39029c2e1cdb",
   "metadata": {},
   "outputs": [
    {
     "data": {
      "text/html": [
       "<div>\n",
       "<style scoped>\n",
       "    .dataframe tbody tr th:only-of-type {\n",
       "        vertical-align: middle;\n",
       "    }\n",
       "\n",
       "    .dataframe tbody tr th {\n",
       "        vertical-align: top;\n",
       "    }\n",
       "\n",
       "    .dataframe thead th {\n",
       "        text-align: right;\n",
       "    }\n",
       "</style>\n",
       "<table border=\"1\" class=\"dataframe\">\n",
       "  <thead>\n",
       "    <tr style=\"text-align: right;\">\n",
       "      <th></th>\n",
       "      <th>gender</th>\n",
       "      <th>race/ethnicity</th>\n",
       "      <th>parental level of education</th>\n",
       "      <th>lunch</th>\n",
       "      <th>test preparation course</th>\n",
       "      <th>math score</th>\n",
       "      <th>reading score</th>\n",
       "      <th>writing score</th>\n",
       "      <th>average score</th>\n",
       "    </tr>\n",
       "  </thead>\n",
       "  <tbody>\n",
       "    <tr>\n",
       "      <th>0</th>\n",
       "      <td>female</td>\n",
       "      <td>group E</td>\n",
       "      <td>high school</td>\n",
       "      <td>free/reduced</td>\n",
       "      <td>none</td>\n",
       "      <td>83.0</td>\n",
       "      <td>46.0</td>\n",
       "      <td>79.0</td>\n",
       "      <td>69.333333</td>\n",
       "    </tr>\n",
       "    <tr>\n",
       "      <th>1</th>\n",
       "      <td>male</td>\n",
       "      <td>group D</td>\n",
       "      <td>master's degree</td>\n",
       "      <td>standard</td>\n",
       "      <td>completed</td>\n",
       "      <td>37.0</td>\n",
       "      <td>66.0</td>\n",
       "      <td>86.0</td>\n",
       "      <td>63.000000</td>\n",
       "    </tr>\n",
       "    <tr>\n",
       "      <th>8</th>\n",
       "      <td>male</td>\n",
       "      <td>group D</td>\n",
       "      <td>bachelor's degree</td>\n",
       "      <td>free/reduced</td>\n",
       "      <td>none</td>\n",
       "      <td>85.0</td>\n",
       "      <td>95.0</td>\n",
       "      <td>69.0</td>\n",
       "      <td>83.000000</td>\n",
       "    </tr>\n",
       "  </tbody>\n",
       "</table>\n",
       "</div>"
      ],
      "text/plain": [
       "   gender race/ethnicity parental level of education         lunch  \\\n",
       "0  female        group E                 high school  free/reduced   \n",
       "1    male        group D             master's degree      standard   \n",
       "8    male        group D           bachelor's degree  free/reduced   \n",
       "\n",
       "  test preparation course  math score  reading score  writing score  \\\n",
       "0                    none        83.0           46.0           79.0   \n",
       "1               completed        37.0           66.0           86.0   \n",
       "8                    none        85.0           95.0           69.0   \n",
       "\n",
       "   average score  \n",
       "0      69.333333  \n",
       "1      63.000000  \n",
       "8      83.000000  "
      ]
     },
     "execution_count": 41,
     "metadata": {},
     "output_type": "execute_result"
    }
   ],
   "source": [
    "df_filtered.head(3)"
   ]
  },
  {
   "cell_type": "code",
   "execution_count": 42,
   "id": "22c9ff50-cb61-4054-8dd3-1ef94577f298",
   "metadata": {},
   "outputs": [],
   "source": [
    "#reseting index fo new dataframe df_filtered\n",
    "df_filtered.reset_index(drop=True,inplace=True)"
   ]
  },
  {
   "cell_type": "code",
   "execution_count": 43,
   "id": "acb4628b-c42c-452c-9e1c-6aa62ce1e959",
   "metadata": {},
   "outputs": [
    {
     "data": {
      "text/html": [
       "<div>\n",
       "<style scoped>\n",
       "    .dataframe tbody tr th:only-of-type {\n",
       "        vertical-align: middle;\n",
       "    }\n",
       "\n",
       "    .dataframe tbody tr th {\n",
       "        vertical-align: top;\n",
       "    }\n",
       "\n",
       "    .dataframe thead th {\n",
       "        text-align: right;\n",
       "    }\n",
       "</style>\n",
       "<table border=\"1\" class=\"dataframe\">\n",
       "  <thead>\n",
       "    <tr style=\"text-align: right;\">\n",
       "      <th></th>\n",
       "      <th>gender</th>\n",
       "      <th>race/ethnicity</th>\n",
       "      <th>parental level of education</th>\n",
       "      <th>lunch</th>\n",
       "      <th>test preparation course</th>\n",
       "      <th>math score</th>\n",
       "      <th>reading score</th>\n",
       "      <th>writing score</th>\n",
       "      <th>average score</th>\n",
       "    </tr>\n",
       "  </thead>\n",
       "  <tbody>\n",
       "    <tr>\n",
       "      <th>0</th>\n",
       "      <td>female</td>\n",
       "      <td>group E</td>\n",
       "      <td>high school</td>\n",
       "      <td>free/reduced</td>\n",
       "      <td>none</td>\n",
       "      <td>83.0</td>\n",
       "      <td>46.0</td>\n",
       "      <td>79.0</td>\n",
       "      <td>69.333333</td>\n",
       "    </tr>\n",
       "    <tr>\n",
       "      <th>1</th>\n",
       "      <td>male</td>\n",
       "      <td>group D</td>\n",
       "      <td>master's degree</td>\n",
       "      <td>standard</td>\n",
       "      <td>completed</td>\n",
       "      <td>37.0</td>\n",
       "      <td>66.0</td>\n",
       "      <td>86.0</td>\n",
       "      <td>63.000000</td>\n",
       "    </tr>\n",
       "    <tr>\n",
       "      <th>2</th>\n",
       "      <td>male</td>\n",
       "      <td>group D</td>\n",
       "      <td>bachelor's degree</td>\n",
       "      <td>free/reduced</td>\n",
       "      <td>none</td>\n",
       "      <td>85.0</td>\n",
       "      <td>95.0</td>\n",
       "      <td>69.0</td>\n",
       "      <td>83.000000</td>\n",
       "    </tr>\n",
       "  </tbody>\n",
       "</table>\n",
       "</div>"
      ],
      "text/plain": [
       "   gender race/ethnicity parental level of education         lunch  \\\n",
       "0  female        group E                 high school  free/reduced   \n",
       "1    male        group D             master's degree      standard   \n",
       "2    male        group D           bachelor's degree  free/reduced   \n",
       "\n",
       "  test preparation course  math score  reading score  writing score  \\\n",
       "0                    none        83.0           46.0           79.0   \n",
       "1               completed        37.0           66.0           86.0   \n",
       "2                    none        85.0           95.0           69.0   \n",
       "\n",
       "   average score  \n",
       "0      69.333333  \n",
       "1      63.000000  \n",
       "2      83.000000  "
      ]
     },
     "execution_count": 43,
     "metadata": {},
     "output_type": "execute_result"
    }
   ],
   "source": [
    "df_filtered.head(3)"
   ]
  },
  {
   "cell_type": "code",
   "execution_count": 44,
   "id": "e09b6504-995e-4c5d-854a-946723a5a044",
   "metadata": {},
   "outputs": [],
   "source": [
    "#grouping the all subjects by gender\n",
    "avg_scores=df.groupby('gender')[['math score','reading score','writing score']].mean().reset_index()"
   ]
  },
  {
   "cell_type": "code",
   "execution_count": 45,
   "id": "b23080ed-82bb-4d06-9fc8-81c52ccceba3",
   "metadata": {},
   "outputs": [
    {
     "data": {
      "text/html": [
       "<div>\n",
       "<style scoped>\n",
       "    .dataframe tbody tr th:only-of-type {\n",
       "        vertical-align: middle;\n",
       "    }\n",
       "\n",
       "    .dataframe tbody tr th {\n",
       "        vertical-align: top;\n",
       "    }\n",
       "\n",
       "    .dataframe thead th {\n",
       "        text-align: right;\n",
       "    }\n",
       "</style>\n",
       "<table border=\"1\" class=\"dataframe\">\n",
       "  <thead>\n",
       "    <tr style=\"text-align: right;\">\n",
       "      <th></th>\n",
       "      <th>gender</th>\n",
       "      <th>math score</th>\n",
       "      <th>reading score</th>\n",
       "      <th>writing score</th>\n",
       "    </tr>\n",
       "  </thead>\n",
       "  <tbody>\n",
       "    <tr>\n",
       "      <th>0</th>\n",
       "      <td>female</td>\n",
       "      <td>54.211538</td>\n",
       "      <td>50.846154</td>\n",
       "      <td>49.519231</td>\n",
       "    </tr>\n",
       "    <tr>\n",
       "      <th>1</th>\n",
       "      <td>male</td>\n",
       "      <td>50.416667</td>\n",
       "      <td>47.104167</td>\n",
       "      <td>47.625000</td>\n",
       "    </tr>\n",
       "  </tbody>\n",
       "</table>\n",
       "</div>"
      ],
      "text/plain": [
       "   gender  math score  reading score  writing score\n",
       "0  female   54.211538      50.846154      49.519231\n",
       "1    male   50.416667      47.104167      47.625000"
      ]
     },
     "execution_count": 45,
     "metadata": {},
     "output_type": "execute_result"
    }
   ],
   "source": [
    "avg_scores"
   ]
  },
  {
   "cell_type": "code",
   "execution_count": 15,
   "id": "a02fd1cd-6f98-4193-9a2f-6a55e60727ad",
   "metadata": {},
   "outputs": [],
   "source": [
    "#Getting maximum average score of a student\n",
    "max_avg = df['average score'].max()"
   ]
  },
  {
   "cell_type": "code",
   "execution_count": 46,
   "id": "a4c02edf-554a-4400-a280-7814f02d67b9",
   "metadata": {},
   "outputs": [
    {
     "data": {
      "text/html": [
       "<div>\n",
       "<style scoped>\n",
       "    .dataframe tbody tr th:only-of-type {\n",
       "        vertical-align: middle;\n",
       "    }\n",
       "\n",
       "    .dataframe tbody tr th {\n",
       "        vertical-align: top;\n",
       "    }\n",
       "\n",
       "    .dataframe thead th {\n",
       "        text-align: right;\n",
       "    }\n",
       "</style>\n",
       "<table border=\"1\" class=\"dataframe\">\n",
       "  <thead>\n",
       "    <tr style=\"text-align: right;\">\n",
       "      <th></th>\n",
       "      <th>gender</th>\n",
       "      <th>race/ethnicity</th>\n",
       "      <th>parental level of education</th>\n",
       "      <th>lunch</th>\n",
       "      <th>test preparation course</th>\n",
       "      <th>math score</th>\n",
       "      <th>reading score</th>\n",
       "      <th>writing score</th>\n",
       "      <th>average score</th>\n",
       "    </tr>\n",
       "  </thead>\n",
       "  <tbody>\n",
       "    <tr>\n",
       "      <th>31</th>\n",
       "      <td>male</td>\n",
       "      <td>group B</td>\n",
       "      <td>associate's degree</td>\n",
       "      <td>free/reduced</td>\n",
       "      <td>completed</td>\n",
       "      <td>95.0</td>\n",
       "      <td>93.0</td>\n",
       "      <td>95.0</td>\n",
       "      <td>94.333333</td>\n",
       "    </tr>\n",
       "  </tbody>\n",
       "</table>\n",
       "</div>"
      ],
      "text/plain": [
       "   gender race/ethnicity parental level of education         lunch  \\\n",
       "31   male        group B          associate's degree  free/reduced   \n",
       "\n",
       "   test preparation course  math score  reading score  writing score  \\\n",
       "31               completed        95.0           93.0           95.0   \n",
       "\n",
       "    average score  \n",
       "31      94.333333  "
      ]
     },
     "execution_count": 46,
     "metadata": {},
     "output_type": "execute_result"
    }
   ],
   "source": [
    "#Getting dataframe corresponding to the maximum average score\n",
    "df[df['average score'] == max_avg]"
   ]
  },
  {
   "cell_type": "code",
   "execution_count": 47,
   "id": "56064e68-1672-4cbe-b37f-eac19b984f2f",
   "metadata": {},
   "outputs": [
    {
     "name": "stdout",
     "output_type": "stream",
     "text": [
      "<class 'pandas.core.frame.DataFrame'>\n",
      "RangeIndex: 100 entries, 0 to 99\n",
      "Data columns (total 9 columns):\n",
      " #   Column                       Non-Null Count  Dtype  \n",
      "---  ------                       --------------  -----  \n",
      " 0   gender                       100 non-null    object \n",
      " 1   race/ethnicity               100 non-null    object \n",
      " 2   parental level of education  100 non-null    object \n",
      " 3   lunch                        100 non-null    object \n",
      " 4   test preparation course      100 non-null    object \n",
      " 5   math score                   100 non-null    float64\n",
      " 6   reading score                100 non-null    float64\n",
      " 7   writing score                100 non-null    float64\n",
      " 8   average score                100 non-null    float64\n",
      "dtypes: float64(4), object(5)\n",
      "memory usage: 7.2+ KB\n"
     ]
    }
   ],
   "source": [
    "df.info()"
   ]
  },
  {
   "cell_type": "code",
   "execution_count": 18,
   "id": "5d7ada16-8f1b-4115-9834-c1a747f38264",
   "metadata": {},
   "outputs": [],
   "source": [
    "#assigning grades by simple method\n",
    "# for i in range(len(df)):\n",
    "#     score = df.loc[i,'average score']\n",
    "#     if score >=85:\n",
    "#         df.loc[i,'grade'] = 'A'\n",
    "#     elif score >=70:\n",
    "#         df.loc[i,'grade'] = 'B'\n",
    "#     elif score >=60:\n",
    "#         df.loc[i,'grade'] = 'C'\n",
    "#     else:\n",
    "#         df.loc[i,'grade'] = 'D'"
   ]
  },
  {
   "cell_type": "code",
   "execution_count": 19,
   "id": "1b85bb0d-d9ac-4884-a27b-2b6b10faec2f",
   "metadata": {},
   "outputs": [],
   "source": [
    "#Assigning grades using built-in apply function \n",
    "def assign_grade(score):\n",
    "    if score>=85:\n",
    "        return 'A'\n",
    "    elif score >= 70:\n",
    "        return 'B'\n",
    "    elif score >= 60:\n",
    "        return 'C'\n",
    "    else:\n",
    "        return 'D'\n",
    "df['grade'] = df['average score'].apply(assign_grade)"
   ]
  },
  {
   "cell_type": "code",
   "execution_count": 48,
   "id": "2e914d24-dc5f-4736-a96a-88db7af0975a",
   "metadata": {},
   "outputs": [
    {
     "data": {
      "text/html": [
       "<div>\n",
       "<style scoped>\n",
       "    .dataframe tbody tr th:only-of-type {\n",
       "        vertical-align: middle;\n",
       "    }\n",
       "\n",
       "    .dataframe tbody tr th {\n",
       "        vertical-align: top;\n",
       "    }\n",
       "\n",
       "    .dataframe thead th {\n",
       "        text-align: right;\n",
       "    }\n",
       "</style>\n",
       "<table border=\"1\" class=\"dataframe\">\n",
       "  <thead>\n",
       "    <tr style=\"text-align: right;\">\n",
       "      <th></th>\n",
       "      <th>gender</th>\n",
       "      <th>race/ethnicity</th>\n",
       "      <th>parental level of education</th>\n",
       "      <th>lunch</th>\n",
       "      <th>test preparation course</th>\n",
       "      <th>math score</th>\n",
       "      <th>reading score</th>\n",
       "      <th>writing score</th>\n",
       "      <th>average score</th>\n",
       "    </tr>\n",
       "  </thead>\n",
       "  <tbody>\n",
       "    <tr>\n",
       "      <th>0</th>\n",
       "      <td>female</td>\n",
       "      <td>group E</td>\n",
       "      <td>high school</td>\n",
       "      <td>free/reduced</td>\n",
       "      <td>none</td>\n",
       "      <td>83.0</td>\n",
       "      <td>46.0</td>\n",
       "      <td>79.0</td>\n",
       "      <td>69.333333</td>\n",
       "    </tr>\n",
       "    <tr>\n",
       "      <th>1</th>\n",
       "      <td>male</td>\n",
       "      <td>group D</td>\n",
       "      <td>master's degree</td>\n",
       "      <td>standard</td>\n",
       "      <td>completed</td>\n",
       "      <td>37.0</td>\n",
       "      <td>66.0</td>\n",
       "      <td>86.0</td>\n",
       "      <td>63.000000</td>\n",
       "    </tr>\n",
       "    <tr>\n",
       "      <th>2</th>\n",
       "      <td>male</td>\n",
       "      <td>group D</td>\n",
       "      <td>some high school</td>\n",
       "      <td>free/reduced</td>\n",
       "      <td>completed</td>\n",
       "      <td>18.0</td>\n",
       "      <td>24.0</td>\n",
       "      <td>17.0</td>\n",
       "      <td>19.666667</td>\n",
       "    </tr>\n",
       "  </tbody>\n",
       "</table>\n",
       "</div>"
      ],
      "text/plain": [
       "   gender race/ethnicity parental level of education         lunch  \\\n",
       "0  female        group E                 high school  free/reduced   \n",
       "1    male        group D             master's degree      standard   \n",
       "2    male        group D            some high school  free/reduced   \n",
       "\n",
       "  test preparation course  math score  reading score  writing score  \\\n",
       "0                    none        83.0           46.0           79.0   \n",
       "1               completed        37.0           66.0           86.0   \n",
       "2               completed        18.0           24.0           17.0   \n",
       "\n",
       "   average score  \n",
       "0      69.333333  \n",
       "1      63.000000  \n",
       "2      19.666667  "
      ]
     },
     "execution_count": 48,
     "metadata": {},
     "output_type": "execute_result"
    }
   ],
   "source": [
    "df.head(3)"
   ]
  },
  {
   "cell_type": "code",
   "execution_count": 51,
   "id": "ab1e5ab5-341f-47de-a4e5-cea44d91853c",
   "metadata": {},
   "outputs": [],
   "source": [
    "#Saving the all changes of StudentPerformance_100 into students_processed \n",
    "df.to_csv('students_processed.csv',index = False)"
   ]
  },
  {
   "cell_type": "code",
   "execution_count": 53,
   "id": "c9b467e4-9003-4822-8706-1fa201381ff7",
   "metadata": {},
   "outputs": [
    {
     "data": {
      "text/html": [
       "<div>\n",
       "<style scoped>\n",
       "    .dataframe tbody tr th:only-of-type {\n",
       "        vertical-align: middle;\n",
       "    }\n",
       "\n",
       "    .dataframe tbody tr th {\n",
       "        vertical-align: top;\n",
       "    }\n",
       "\n",
       "    .dataframe thead th {\n",
       "        text-align: right;\n",
       "    }\n",
       "</style>\n",
       "<table border=\"1\" class=\"dataframe\">\n",
       "  <thead>\n",
       "    <tr style=\"text-align: right;\">\n",
       "      <th></th>\n",
       "      <th>gender</th>\n",
       "      <th>math score</th>\n",
       "      <th>reading score</th>\n",
       "      <th>writing score</th>\n",
       "    </tr>\n",
       "  </thead>\n",
       "  <tbody>\n",
       "    <tr>\n",
       "      <th>0</th>\n",
       "      <td>female</td>\n",
       "      <td>54.211538</td>\n",
       "      <td>50.846154</td>\n",
       "      <td>49.519231</td>\n",
       "    </tr>\n",
       "    <tr>\n",
       "      <th>1</th>\n",
       "      <td>male</td>\n",
       "      <td>50.416667</td>\n",
       "      <td>47.104167</td>\n",
       "      <td>47.625000</td>\n",
       "    </tr>\n",
       "  </tbody>\n",
       "</table>\n",
       "</div>"
      ],
      "text/plain": [
       "   gender  math score  reading score  writing score\n",
       "0  female   54.211538      50.846154      49.519231\n",
       "1    male   50.416667      47.104167      47.625000"
      ]
     },
     "execution_count": 53,
     "metadata": {},
     "output_type": "execute_result"
    }
   ],
   "source": [
    "#Checking avg_scores becaues we are going to work on it\n",
    "avg_scores"
   ]
  },
  {
   "cell_type": "markdown",
   "id": "2c11562f-f9d3-47ca-9b59-1282bb301cde",
   "metadata": {},
   "source": [
    "<h4>Bar chart</h4>"
   ]
  },
  {
   "cell_type": "code",
   "execution_count": 50,
   "id": "37bb6dc1-946a-4922-93af-52c9484454a7",
   "metadata": {},
   "outputs": [
    {
     "data": {
      "text/plain": [
       "<matplotlib.legend.Legend at 0x27037c2a390>"
      ]
     },
     "execution_count": 50,
     "metadata": {},
     "output_type": "execute_result"
    },
    {
     "data": {
      "image/png": "[encoded data removed]",
      "text/plain": [
       "<Figure size 1000x500 with 1 Axes>"
      ]
     },
     "metadata": {},
     "output_type": "display_data"
    }
   ],
   "source": [
    "#bar chart by gender\n",
    "df_melted = avg_scores.melt(id_vars=\"gender\", \n",
    "                                      value_vars=[\"math score\", \"reading score\", \"writing score\"],\n",
    "                                      var_name=\"Subject\", \n",
    "                                      value_name=\"Average Score\")\n",
    "plt.figure(figsize=(10,5))\n",
    "sns.barplot(x = 'Subject', y = 'Average Score', data = df_melted, hue = 'gender', width = 0.5)\n",
    "plt.legend(title = \"Gender\", loc = 'upper left',bbox_to_anchor = (1,1))"
   ]
  },
  {
   "cell_type": "code",
   "execution_count": null,
   "id": "72d2df66-fc79-425f-960f-2759d1ca3013",
   "metadata": {},
   "outputs": [],
   "source": []
  }
 ],
 "metadata": {
  "kernelspec": {
   "display_name": "Python 3 (ipykernel)",
   "language": "python",
   "name": "python3"
  },
  "language_info": {
   "codemirror_mode": {
    "name": "ipython",
    "version": 3
   },
   "file_extension": ".py",
   "mimetype": "text/x-python",
   "name": "python",
   "nbconvert_exporter": "python",
   "pygments_lexer": "ipython3",
   "version": "3.12.7"
  }
 },
 "nbformat": 4,
 "nbformat_minor": 5
}
